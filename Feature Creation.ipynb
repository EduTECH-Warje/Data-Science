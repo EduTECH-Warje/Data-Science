{
 "cells": [
  {
   "cell_type": "code",
   "execution_count": 1,
   "id": "08cf6eca",
   "metadata": {},
   "outputs": [],
   "source": [
    "import pandas as pd"
   ]
  },
  {
   "cell_type": "code",
   "execution_count": 2,
   "id": "4e52debe",
   "metadata": {},
   "outputs": [],
   "source": [
    "df = pd.read_csv('patient_data.csv')"
   ]
  },
  {
   "cell_type": "code",
   "execution_count": 9,
   "id": "294267cd",
   "metadata": {},
   "outputs": [
    {
     "name": "stdout",
     "output_type": "stream",
     "text": [
      "<class 'pandas.core.frame.DataFrame'>\n",
      "RangeIndex: 1256 entries, 0 to 1255\n",
      "Data columns (total 11 columns):\n",
      " #   Column             Non-Null Count  Dtype         \n",
      "---  ------             --------------  -----         \n",
      " 0   Patient_ID         1256 non-null   object        \n",
      " 1   Name               1256 non-null   object        \n",
      " 2   Date_of_Birth      1256 non-null   datetime64[ns]\n",
      " 3   Disease            1256 non-null   object        \n",
      " 4   Height_cm          1256 non-null   float64       \n",
      " 5   Weight_kg          1256 non-null   float64       \n",
      " 6   Per_Day_Room_Cost  1256 non-null   int64         \n",
      " 7   No_of_Days         1256 non-null   int64         \n",
      " 8   Suite_Type         1256 non-null   object        \n",
      " 9   Admission_Date     1256 non-null   object        \n",
      " 10  Discharge_Date     1256 non-null   object        \n",
      "dtypes: datetime64[ns](1), float64(2), int64(2), object(6)\n",
      "memory usage: 108.1+ KB\n"
     ]
    }
   ],
   "source": [
    "df.info()"
   ]
  },
  {
   "cell_type": "code",
   "execution_count": 8,
   "id": "14b30073",
   "metadata": {},
   "outputs": [],
   "source": [
    "df['Date_of_Birth']=pd.DatetimeIndex(df['Date_of_Birth'])"
   ]
  },
  {
   "cell_type": "code",
   "execution_count": 13,
   "id": "858710b3",
   "metadata": {},
   "outputs": [],
   "source": [
    "df['Age'] = df['Date_of_Birth'].apply(lambda dob: pd.Timestamp.today().year - dob.year)"
   ]
  },
  {
   "cell_type": "code",
   "execution_count": 16,
   "id": "e1cca5aa",
   "metadata": {},
   "outputs": [],
   "source": [
    "df['BMI'] = df['Weight_kg']/(df['Height_cm']/100)**2"
   ]
  },
  {
   "cell_type": "code",
   "execution_count": 17,
   "id": "8892ccf1",
   "metadata": {},
   "outputs": [
    {
     "data": {
      "text/plain": [
       "0       27.403548\n",
       "1       33.409865\n",
       "2       18.867980\n",
       "3       22.713264\n",
       "4       13.661001\n",
       "          ...    \n",
       "1251    53.517402\n",
       "1252    35.381458\n",
       "1253    12.951334\n",
       "1254    16.372161\n",
       "1255    31.015045\n",
       "Name: BMI, Length: 1256, dtype: float64"
      ]
     },
     "execution_count": 17,
     "metadata": {},
     "output_type": "execute_result"
    }
   ],
   "source": [
    "df['BMI'] "
   ]
  },
  {
   "cell_type": "code",
   "execution_count": 18,
   "id": "00c59917",
   "metadata": {},
   "outputs": [],
   "source": [
    "df['Total Cost'] = df['Per_Day_Room_Cost']*df['No_of_Days']"
   ]
  },
  {
   "cell_type": "code",
   "execution_count": 19,
   "id": "cb15604d",
   "metadata": {},
   "outputs": [
    {
     "data": {
      "text/plain": [
       "0        24835\n",
       "1        27464\n",
       "2        64050\n",
       "3       124020\n",
       "4        76608\n",
       "         ...  \n",
       "1251     18945\n",
       "1252      8692\n",
       "1253     60711\n",
       "1254     33792\n",
       "1255     19504\n",
       "Name: Total Cost, Length: 1256, dtype: int64"
      ]
     },
     "execution_count": 19,
     "metadata": {},
     "output_type": "execute_result"
    }
   ],
   "source": [
    "df['Total Cost']"
   ]
  },
  {
   "cell_type": "code",
   "execution_count": 20,
   "id": "4ce77f51",
   "metadata": {},
   "outputs": [
    {
     "data": {
      "text/plain": [
       "0       27.403548\n",
       "1       33.409865\n",
       "2       18.867980\n",
       "3       22.713264\n",
       "4       13.661001\n",
       "          ...    \n",
       "1251    53.517402\n",
       "1252    35.381458\n",
       "1253    12.951334\n",
       "1254    16.372161\n",
       "1255    31.015045\n",
       "Name: BMI, Length: 1256, dtype: float64"
      ]
     },
     "execution_count": 20,
     "metadata": {},
     "output_type": "execute_result"
    }
   ],
   "source": [
    "df['BMI'] "
   ]
  },
  {
   "cell_type": "code",
   "execution_count": 22,
   "id": "65b5174d",
   "metadata": {},
   "outputs": [],
   "source": [
    "df['BMI_Category'] = pd.cut(df['BMI'], bins=[0,18.5,25,30,float('inf')], labels=['Under Wt','Normal Wt','Over Wt','Obsese'], right=False)"
   ]
  },
  {
   "cell_type": "code",
   "execution_count": 23,
   "id": "2a1e29c5",
   "metadata": {},
   "outputs": [
    {
     "data": {
      "text/plain": [
       "0         Over Wt\n",
       "1          Obsese\n",
       "2       Normal Wt\n",
       "3       Normal Wt\n",
       "4        Under Wt\n",
       "          ...    \n",
       "1251       Obsese\n",
       "1252       Obsese\n",
       "1253     Under Wt\n",
       "1254     Under Wt\n",
       "1255       Obsese\n",
       "Name: BMI_Category, Length: 1256, dtype: category\n",
       "Categories (4, object): ['Under Wt' < 'Normal Wt' < 'Over Wt' < 'Obsese']"
      ]
     },
     "execution_count": 23,
     "metadata": {},
     "output_type": "execute_result"
    }
   ],
   "source": [
    "df['BMI_Category']"
   ]
  }
 ],
 "metadata": {
  "kernelspec": {
   "display_name": "Python 3 (ipykernel)",
   "language": "python",
   "name": "python3"
  },
  "language_info": {
   "codemirror_mode": {
    "name": "ipython",
    "version": 3
   },
   "file_extension": ".py",
   "mimetype": "text/x-python",
   "name": "python",
   "nbconvert_exporter": "python",
   "pygments_lexer": "ipython3",
   "version": "3.11.5"
  }
 },
 "nbformat": 4,
 "nbformat_minor": 5
}
